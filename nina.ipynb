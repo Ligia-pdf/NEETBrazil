{
 "cells": [
  {
   "cell_type": "markdown",
   "metadata": {},
   "source": [
    "# Analysis and Visualization of the NEET Population (15-24 years)\n",
    "\n",
    "**Author:** Nina & Ligia\n",
    "\n",
    "**Data Source:** `people_14_25_2023_2024_fullvars.csv`\n",
    "\n",
    "**Objective:** This notebook analyzes microdata from the PNAD Contínua for Q4 2024, calculates the total NEET population and breaks it down by gender, and generates a chart to visualize the results.\n",
    "\n",
    "ano — interview year (e.g., 2023, 2024, 2025).\n",
    "Source: IBGE\n",
    "\n",
    "trimestre — reference quarter (1 to 4).\n",
    "Source: IBGE\n",
    "\n",
    "id_uf — numeric code of the Federative Unit (state) (11=RO … 53=DF). For abbreviation/name, join with br_bd_diretorios_brasil.uf.\n",
    "Source: Base dos Dados\n",
    "\n",
    "V1022 – Dwelling location (urban/rural): 1=Urban, 2=Rural.\n",
    "Source: IBGE (FTP docs)\n",
    "\n",
    "V2007 – Sex: 1=Male, 2=Female.\n",
    "Source: IBGE\n",
    "\n",
    "V2009 – Age: completed years.\n",
    "Source: IBGE\n",
    "\n",
    "V2010 – Race/Color: 1=White, 2=Black, 3=Asian (Yellow), 4=Brown (Pardo), 5=Indigenous, 9=Ignored/Not declared.\n",
    "Source: IBGE\n",
    "\n",
    "V3002 – Attends school/course? 1=Yes, 2=No (basis for the “E” in NEET).\n",
    "Source: IBGE\n",
    "\n",
    "VD4002 – Labor force status in the reference week (derived): 1=Employed, 2=Unemployed, 3=Out of the labor force (basis for the “T” in NEET: not employed).\n",
    "Source: IBGE (FTP docs)\n",
    "\n",
    "V4032 – Contributes to a social security institute for this job? 1=Yes, 2=No (asked of employed; “not applicable” if not employed).\n",
    "Source: IBGE (FTP docs)\n",
    "\n",
    "VD4019 – Usual earnings from all jobs (derived): monthly nominal income (currency values).\n",
    "Source: IBGE (FTP docs)\n",
    "\n",
    "V1028 – Sample weight: historical “household/person weight” with corrections and post-stratification.\n",
    "Note: for person-level analyses, the more common weight is V1032 (final weight) (and its replicate weights for variance).\n",
    "Source: IBGE"
   ]
  },
  {
   "cell_type": "markdown",
   "metadata": {},
   "source": [
    "### 1. Import Libraries\n",
    "\n",
    "First, we import the necessary libraries for the analysis: `pandas` for data manipulation and `matplotlib` for creating charts."
   ]
  },
  {
   "cell_type": "code",
   "execution_count": null,
   "metadata": {},
   "outputs": [],
   "source": [
    "import pandas as pd\n",
    "import matplotlib.pyplot as plt\n",
    "import os\n",
    "\n",
    "print(\"Libraries imported successfully!\")"
   ]
  },
  {
   "cell_type": "markdown",
   "metadata": {},
   "source": [
    "### 2. Load the Data\n",
    "\n",
    "Now, let's load our pre-processed CSV file into a pandas DataFrame. The script checks if the file exists before attempting to load it."
   ]
  },
  {
   "cell_type": "code",
   "execution_count": null,
   "metadata": {},
   "outputs": [],
   "source": [
    "input_filename = 'people_14_25_2023_2024_fullvars.csv'\n",
    "\n",
    "if not os.path.exists(input_filename):\n",
    "    print(f\"\\nError: The input file '{input_filename}' was not found.\")\n",
    "    print(\"Please make sure the file is in the same folder as this notebook.\")\n",
    "else:\n",
    "    try:\n",
    "        print(f\"Loading data from '{input_filename}'...\")\n",
    "        df = pd.read_csv(input_filename)\n",
    "        print(\"Data loaded successfully!\")\n",
    "        # Display the first few rows for verification\n",
    "        display(df.head())\n",
    "    except Exception as e:\n",
    "        print(f\"\\nError: Could not read the file '{input_filename}'. It might be corrupted. Error: {e}\")"
   ]
  },
  {
   "cell_type": "markdown",
   "metadata": {},
   "source": [
    "### 3. Filter Data for Analysis\n",
    "\n",
    "Let's focus our analysis on the relevant data:\n",
    "1.  **Period:** Q4 2024.\n",
    "2.  **Age:** Young people between 15 and 24 years old."
   ]
  },
  {
   "cell_type": "code",
   "execution_count": null,
   "metadata": {},
   "outputs": [],
   "source": [
    "print(\"Filtering data for Q4 2024 and age between 15-24 years...\")\n",
    "\n",
    "# Filter by the specific year and quarter\n",
    "df_periodo = df[(df['Year'] == 2024) & (df['Quarter'] == 4)].copy()\n",
    "\n",
    "# Filter by the target age group\n",
    "df_idade = df_periodo[(df_periodo['Age'] >= 15) & (df_periodo['Age'] <= 24)].copy()\n",
    "\n",
    "if df_idade.empty:\n",
    "    print(\"\\nError: No data found for young people aged 15-24 in Q4 2024.\")\n",
    "else:\n",
    "    print(f\"Filter applied. Found {len(df_idade)} observations of young people in the period.\")"
   ]
  },
  {
   "cell_type": "markdown",
   "metadata": {},
   "source": [
    "### 4. Identify NEET Population and Calculate Totals\n",
    "\n",
    "In this step, we apply the NEET definition to filter individuals who are not studying and not working. Then, we use the sample weights (`Weight_V1028`) to estimate the actual population and print the results."
   ]
  },
  {
   "cell_type": "code",
   "execution_count": null,
   "metadata": {},
   "outputs": [],
   "source": [
    "print(\"Identifying the NEET population and calculating totals...\")\n",
    "\n",
    "# Identify NEET individuals\n",
    "df_neet = df_idade[\n",
    "    (df_idade['School_label'] == 'No') &\n",
    "    (df_idade['Occupation_label'] != 'Occupied')\n",
    "].copy()\n",
    "\n",
    "# Calculate totals using the sample weights ('Weight_V1028')\n",
    "total_jovens = df_idade['Weight_V1028'].sum()\n",
    "total_neet = df_neet['Weight_V1028'].sum()\n",
    "homens_neet = df_neet[df_neet['Sex_label'] == 'Male']['Weight_V1028'].sum()\n",
    "mulheres_neet = df_neet[df_neet['Sex_label'] == 'Female']['Weight_V1028'].sum()\n",
    "\n",
    "# Calculate percentage\n",
    "percentagem_neet = (total_neet / total_jovens) * 100 if total_jovens > 0 else 0\n",
    "\n",
    "print(\"\\n--- Results for Q4 2024 (15-24 years old) ---\")\n",
    "print(f\"Total Youth Population: {total_jovens:,.0f}\")\n",
    "print(f\"Total NEET Youth: {total_neet:,.0f} ({percentagem_neet:.1f}%)\")\n",
    "print(f\"  - NEET Men: {homens_neet:,.0f}\")\n",
    "print(f\"  - NEET Women: {mulheres_neet:,.0f}\")"
   ]
  },
  {
   "cell_type": "markdown",
   "metadata": {},
   "source": [
    "### 5. Generate Chart\n",
    "\n",
    "Finally, we create a bar chart to visualize the distribution of the NEET population, including the total and the breakdown by gender."
   ]
  },
  {
   "cell_type": "code",
   "execution_count": null,
   "metadata": {},
   "outputs": [],
   "source": [
    "print(\"\\nGenerating the chart...\")\n",
    "\n",
    "# Data for the chart\n",
    "categories = ['Total NEET', 'Men', 'Women']\n",
    "valores = [total_neet, homens_neet, mulheres_neet]\n",
    "cores = ['#003f5c', '#58508d', '#bc5090']\n",
    "\n",
    "fig, ax = plt.subplots(figsize=(10, 7))\n",
    "\n",
    "# Create the bars\n",
    "bars = ax.bar(categories, valores, color=cores)\n",
    "\n",
    "# Add title and labels\n",
    "ax.set_title('Analysis of the NEET Population (15-24 years) - Q4 2024', fontsize=16, pad=20)\n",
    "ax.set_ylabel('Estimated Population', fontsize=12)\n",
    "ax.tick_params(axis='x', labelsize=12)\n",
    "ax.spines['top'].set_visible(False)\n",
    "ax.spines['right'].set_visible(False)\n",
    "ax.yaxis.grid(True, linestyle='--', alpha=0.6)\n",
    "ax.get_yaxis().set_major_formatter(plt.FuncFormatter(lambda x, loc: \"{:,.0f}\".format(int(x))))\n",
    "\n",
    "# Add data labels on top of the bars\n",
    "for bar in bars:\n",
    "    yval = bar.get_height()\n",
    "    ax.text(bar.get_x() + bar.get_width()/2.0, yval + (max(valores) * 0.01), f'{yval:,.0f}', ha='center', va='bottom', fontsize=11)\n",
    "\n",
    "# Add summary text below the title\n",
    "summary_text = (\n",
    "    f\"Total Youth Population (15-24 years) in the period: {total_jovens:,.0f}\\n\"\n",
    "    f\"NEET Youth represent {percentagem_neet:.1f}% of the total\"\n",
    ")\n",
    "fig.text(0.5, 0.9, summary_text, ha='center', fontsize=12, style='italic', color='gray')\n",
    "\n",
    "plt.tight_layout(rect=[0, 0, 1, 0.9]) # Adjust layout to make space for text\n",
    "plt.show()"
   ]
  }
 ],
 "metadata": {
  "kernelspec": {
   "display_name": "Python 3",
   "language": "python",
   "name": "python3"
  },
  "language_info": {
   "codemirror_mode": {
    "name": "ipython",
    "version": 3
   },
   "file_extension": ".py",
   "mimetype": "text/x-python",
   "name": "python",
   "nbconvert_exporter": "python",
   "pygments_lexer": "ipython3",
   "version": "3.9.7"
  }
 },
 "nbformat": 4,
 "nbformat_minor": 2
}
