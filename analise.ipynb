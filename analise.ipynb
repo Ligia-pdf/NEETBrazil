{
 "cells": [
  {
   "cell_type": "markdown",
   "metadata": {},
   "source": [
    "# Análise e Visualização da População NEET (15-24 anos)\n",
    "\n",
    "**Autor:** Gemini & Ligia\n",
    "\n",
    "**Fonte de Dados:** `people_14_25_2023_2024_fullvars.csv`\n",
    "\n",
    "**Objetivo:** Este notebook analisa os microdados da PNAD Contínua para o 4º trimestre de 2024, calcula a população NEET total e por sexo, e gera um gráfico para visualizar os resultados."
   ]
  },
  {
   "cell_type": "markdown",
   "metadata": {},
   "source": [
    "### 1. Importar Bibliotecas\n",
    "\n",
    "Primeiro, importamos as bibliotecas necessárias para a análise: `pandas` para manipulação de dados e `matplotlib` para a criação de gráficos."
   ]
  },
  {
   "cell_type": "code",
   "execution_count": null,
   "metadata": {},
   "outputs": [],
   "source": [
    "import pandas as pd\n",
    "import matplotlib.pyplot as plt\n",
    "import os\n",
    "\n",
    "print(\"Bibliotecas importadas com sucesso!\")"
   ]
  },
  {
   "cell_type": "markdown",
   "metadata": {},
   "source": [
    "### 2. Carregar os Dados\n",
    "\n",
    "Agora, vamos carregar o nosso ficheiro CSV pré-processado para um DataFrame do pandas. O script verifica se o ficheiro existe antes de tentar carregá-lo."
   ]
  },
  {
   "cell_type": "code",
   "execution_count": null,
   "metadata": {},
   "outputs": [],
   "source": [
    "input_filename = 'people_14_25_2023_2024_fullvars.csv'\n",
    "\n",
    "if not os.path.exists(input_filename):\n",
    "    print(f\"\\nErro: O ficheiro de entrada '{input_filename}' não foi encontrado.\")\n",
    "    print(\"Por favor, certifique-se de que o ficheiro está na mesma pasta que este notebook.\")\n",
    "else:\n",
    "    try:\n",
    "        print(f\"A carregar dados de '{input_filename}'...\")\n",
    "        df = pd.read_csv(input_filename)\n",
    "        print(\"Dados carregados com sucesso!\")\n",
    "        # Exibir as primeiras linhas para verificação\n",
    "        display(df.head())\n",
    "    except Exception as e:\n",
    "        print(f\"\\nErro: Não foi possível ler o ficheiro '{input_filename}'. Pode estar corrompido. Erro: {e}\")"
   ]
  },
  {
   "cell_type": "markdown",
   "metadata": {},
   "source": [
    "### 3. Filtrar Dados para Análise\n",
    "\n",
    "Vamos focar a nossa análise apenas nos dados relevantes:\n",
    "1.  **Período:** 4º trimestre de 2024.\n",
    "2.  **Idade:** Jovens entre 15 e 24 anos."
   ]
  },
  {
   "cell_type": "code",
   "execution_count": null,
   "metadata": {},
   "outputs": [],
   "source": [
    "print(\"A filtrar dados para o 4º Trimestre de 2024 e idade entre 15-24 anos...\")\n",
    "\n",
    "# Filtrar pelo ano e trimestre específicos\n",
    "df_periodo = df[(df['Year'] == 2024) & (df['Quarter'] == 4)].copy()\n",
    "\n",
    "# Filtrar pelo grupo de idade alvo\n",
    "df_idade = df_periodo[(df_periodo['Age'] >= 15) & (df_periodo['Age'] <= 24)].copy()\n",
    "\n",
    "if df_idade.empty:\n",
    "    print(\"\\nErro: Nenhum dado encontrado para jovens de 15 a 24 anos no 4º Trimestre de 2024.\")\n",
    "else:\n",
    "    print(f\"Filtro aplicado. Encontradas {len(df_idade)} observações de jovens no período.\")"
   ]
  },
  {
   "cell_type": "markdown",
   "metadata": {},
   "source": [
    "### 4. Identificar População NEET e Calcular Totais\n",
    "\n",
    "Nesta etapa, aplicamos a definição de NEET para filtrar os indivíduos que não estudam e não trabalham. Em seguida, usamos os pesos amostrais (`Weight_V1028`) para estimar a população real e imprimimos os resultados."
   ]
  },
  {
   "cell_type": "code",
   "execution_count": null,
   "metadata": {},
   "outputs": [],
   "source": [
    "print(\"A identificar a população NEET e a calcular os totais...\")\n",
    "\n",
    "# Identificar indivíduos NEET\n",
    "df_neet = df_idade[\n",
    "    (df_idade['School_label'] == 'No') &\n",
    "    (df_idade['Occupation_label'] != 'Occupied')\n",
    "].copy()\n",
    "\n",
    "# Calcular totais usando os pesos amostrais ('Weight_V1028')\n",
    "total_jovens = df_idade['Weight_V1028'].sum()\n",
    "total_neet = df_neet['Weight_V1028'].sum()\n",
    "homens_neet = df_neet[df_neet['Sex_label'] == 'Male']['Weight_V1028'].sum()\n",
    "mulheres_neet = df_neet[df_neet['Sex_label'] == 'Female']['Weight_V1028'].sum()\n",
    "\n",
    "# Calcular percentagem\n",
    "percentagem_neet = (total_neet / total_jovens) * 100 if total_jovens > 0 else 0\n",
    "\n",
    "print(\"\\n--- Resultados para o 4º Trimestre de 2024 (15-24 anos) ---\")\n",
    "print(f\"População Total de Jovens: {total_jovens:,.0f}\")\n",
    "print(f\"Total de Jovens NEET: {total_neet:,.0f} ({percentagem_neet:.1f}%)\")\n",
    "print(f\"  - Homens NEET: {homens_neet:,.0f}\")\n",
    "print(f\"  - Mulheres NEET: {mulheres_neet:,.0f}\")"
   ]
  },
  {
   "cell_type": "markdown",
   "metadata": {},
   "source": [
    "### 5. Gerar Gráfico\n",
    "\n",
    "Finalmente, criamos um gráfico de barras para visualizar a distribuição da população NEET, incluindo o total e a divisão por sexo."
   ]
  },
  {
   "cell_type": "code",
   "execution_count": null,
   "metadata": {},
   "outputs": [],
   "source": [
    "print(\"\\nA gerar o gráfico...\")\n",
    "\n",
    "# Dados para o gráfico\n",
    "categorias = ['Total NEET', 'Homens', 'Mulheres']\n",
    "valores = [total_neet, homens_neet, mulheres_neet]\n",
    "cores = ['#003f5c', '#58508d', '#bc5090']\n",
    "\n",
    "fig, ax = plt.subplots(figsize=(10, 7))\n",
    "\n",
    "# Criar as barras\n",
    "bars = ax.bar(categorias, valores, color=cores)\n",
    "\n",
    "# Adicionar título e rótulos\n",
    "ax.set_title('Análise da População NEET (15-24 anos) - 4º Trimestre de 2024', fontsize=16, pad=20)\n",
    "ax.set_ylabel('População Estimada', fontsize=12)\n",
    "ax.tick_params(axis='x', labelsize=12)\n",
    "ax.spines['top'].set_visible(False)\n",
    "ax.spines['right'].set_visible(False)\n",
    "ax.yaxis.grid(True, linestyle='--', alpha=0.6)\n",
    "ax.get_yaxis().set_major_formatter(plt.FuncFormatter(lambda x, loc: \"{:,.0f}\".format(int(x))))\n",
    "\n",
    "# Adicionar rótulos de dados no topo das barras\n",
    "for bar in bars:\n",
    "    yval = bar.get_height()\n",
    "    ax.text(bar.get_x() + bar.get_width()/2.0, yval + (max(valores) * 0.01), f'{yval:,.0f}', ha='center', va='bottom', fontsize=11)\n",
    "\n",
    "# Adicionar texto de resumo abaixo do título\n",
    "summary_text = (\n",
    "    f\"População Total de Jovens (15-24 anos) no período: {total_jovens:,.0f}\\n\"\n",
    "    f\"Jovens NEET representam {percentagem_neet:.1f}% do total\"\n",
    ")\n",
    "fig.text(0.5, 0.9, summary_text, ha='center', fontsize=12, style='italic', color='gray')\n",
    "\n",
    "plt.tight_layout(rect=[0, 0, 1, 0.9]) # Ajustar layout para dar espaço ao texto\n",
    "plt.show()"
   ]
  }
 ],
 "metadata": {
  "kernelspec": {
   "display_name": "Python 3",
   "language": "python",
   "name": "python3"
  },
  "language_info": {
   "codemirror_mode": {
    "name": "ipython",
    "version": 3
   },
   "file_extension": ".py",
   "mimetype": "text/x-python",
   "name": "python",
   "nbconvert_exporter": "python",
   "pygments_lexer": "ipython3",
   "version": "3.9.7"
  }
 },
 "nbformat": 4,
 "nbformat_minor": 2
}
